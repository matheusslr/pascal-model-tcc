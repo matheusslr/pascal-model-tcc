{
 "cells": [
  {
   "cell_type": "markdown",
   "metadata": {},
   "source": [
    "Resultados esperados:\n",
    " - input: \n",
    "    - avg_runtime\n",
    "    - input_complexity\n",
    " - output: \n",
    "    - p_cores\n"
   ]
  },
  {
   "cell_type": "code",
   "execution_count": 5,
   "metadata": {},
   "outputs": [],
   "source": [
    "import pandas as pd\n",
    "import numpy as np\n",
    "from sklearn.model_selection import train_test_split"
   ]
  },
  {
   "cell_type": "code",
   "execution_count": 2,
   "metadata": {},
   "outputs": [],
   "source": [
    "df = pd.read_csv('dataset/clean_data.csv')"
   ]
  },
  {
   "cell_type": "code",
   "execution_count": 6,
   "metadata": {},
   "outputs": [],
   "source": [
    "def create_sequences(data, time_steps=1):\n",
    "    x, y = [], []\n",
    "    for i in range(len(data) - time_steps):\n",
    "        input_data = data.iloc[i:(i + time_steps)][['input', 'average_runtime']].values\n",
    "        output_data = data.iloc[i + time_steps]['cores']\n",
    "        x.append(input_data)\n",
    "        y.append(output_data)\n",
    "    return np.array(x), np.array(y)\n",
    "\n",
    "TIME_STEPS = 3\n",
    "x, y = create_sequences(df, TIME_STEPS)\n",
    "\n",
    "# Reshape para o formato [samples, time_steps, features]\n",
    "x = np.reshape(x, (x.shape[0], TIME_STEPS, 2))"
   ]
  },
  {
   "cell_type": "code",
   "execution_count": 11,
   "metadata": {},
   "outputs": [],
   "source": [
    "x_train, x_test, y_train, y_test = train_test_split(x, y, test_size=0.2, random_state=42)"
   ]
  }
 ],
 "metadata": {
  "kernelspec": {
   "display_name": "Python 3",
   "language": "python",
   "name": "python3"
  },
  "language_info": {
   "codemirror_mode": {
    "name": "ipython",
    "version": 3
   },
   "file_extension": ".py",
   "mimetype": "text/x-python",
   "name": "python",
   "nbconvert_exporter": "python",
   "pygments_lexer": "ipython3",
   "version": "3.11.4"
  },
  "orig_nbformat": 4
 },
 "nbformat": 4,
 "nbformat_minor": 2
}
