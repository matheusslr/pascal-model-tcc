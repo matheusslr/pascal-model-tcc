{
 "cells": [
  {
   "cell_type": "code",
   "execution_count": 2,
   "metadata": {},
   "outputs": [],
   "source": [
    "import os\n",
    "import pandas as pd"
   ]
  },
  {
   "cell_type": "code",
   "execution_count": 3,
   "metadata": {},
   "outputs": [],
   "source": [
    "dirs = os.listdir('./runs/')\n",
    "df_model = pd.DataFrame()\n",
    "df_real = pd.DataFrame()\n",
    "\n",
    "for dir in dirs:\n",
    "    files = os.listdir(f'./runs/{dir}')\n",
    "    files_path = [f'./runs/{dir}/{f}' for f in files if f.endswith('.json')]\n",
    "    \n",
    "    df_model_aux = pd.read_json(files_path[0])\n",
    "    df_real_aux = pd.read_json(files_path[1])\n",
    "\n",
    "    df_model_aux['algorithm'] = dir\n",
    "    df_real_aux['algorithm'] = dir    \n",
    "\n",
    "    df_model = pd.concat([df_model, df_model_aux])\n",
    "    df_real = pd.concat([df_real, df_real_aux])"
   ]
  },
  {
   "cell_type": "code",
   "execution_count": 4,
   "metadata": {},
   "outputs": [],
   "source": [
    "def load_data(df):\n",
    "    runs = os.listdir('./runs/')\n",
    "    dfs = []\n",
    "    for run in runs:\n",
    "        dfs.append(df[df['algorithm'] == run])\n",
    "    return dfs"
   ]
  },
  {
   "cell_type": "code",
   "execution_count": 5,
   "metadata": {},
   "outputs": [],
   "source": [
    "list_model = load_data(df_model)\n",
    "list_real = load_data(df_real)"
   ]
  },
  {
   "cell_type": "code",
   "execution_count": 26,
   "metadata": {},
   "outputs": [
    {
     "data": {
      "text/plain": [
       "Index(['1;0;1', '1;0;2', '1;0;3', '1;0;4', '1;0;5', '1;0;6', '1;0;7', '1;0;8',\n",
       "       '1;0;9', '1;0;10',\n",
       "       ...\n",
       "       '20;13;1', '19;14;1', '18;15;1', '17;16;1', '20;14;1', '19;15;1',\n",
       "       '18;16;1', '20;15;1', '19;16;1', '20;16;1'],\n",
       "      dtype='object', length=529)"
      ]
     },
     "execution_count": 26,
     "metadata": {},
     "output_type": "execute_result"
    }
   ],
   "source": [
    "df_bfs = list_model[0][list_model[0]['data'].notna()]['data']\n"
   ]
  }
 ],
 "metadata": {
  "kernelspec": {
   "display_name": "Python 3",
   "language": "python",
   "name": "python3"
  },
  "language_info": {
   "codemirror_mode": {
    "name": "ipython",
    "version": 3
   },
   "file_extension": ".py",
   "mimetype": "text/x-python",
   "name": "python",
   "nbconvert_exporter": "python",
   "pygments_lexer": "ipython3",
   "version": "3.11.4"
  }
 },
 "nbformat": 4,
 "nbformat_minor": 2
}
