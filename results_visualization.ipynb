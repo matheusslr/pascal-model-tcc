{
 "cells": [
  {
   "cell_type": "code",
   "execution_count": 1,
   "metadata": {
    "metadata": {}
   },
   "outputs": [],
   "source": [
    "import os\n",
    "import pandas as pd\n",
    "import seaborn as sns\n",
    "import matplotlib.pyplot as plt\n",
    "import numpy as np"
   ]
  },
  {
   "cell_type": "code",
   "execution_count": 2,
   "metadata": {},
   "outputs": [],
   "source": [
    "def calculate_median(data_list, start_index, end_index):\n",
    "    return np.median([data['stop_time'] - data['start_time'] for data in data_list[start_index:end_index]])"
   ]
  },
  {
   "cell_type": "code",
   "execution_count": 3,
   "metadata": {},
   "outputs": [],
   "source": [
    "def extract_avg_runtime(df):\n",
    "    data_list = df[df['data'].notna()]['data']\n",
    "    keys = data_list.index\n",
    "\n",
    "    avgs = []\n",
    "    BATCH_SIZE = 10\n",
    "\n",
    "    for i in range(0, len(data_list), BATCH_SIZE):\n",
    "        avg = calculate_median(data_list, i, i + BATCH_SIZE)\n",
    "        config = keys[i].split(\";\")\n",
    "        avgs.append((config[0], config[1], avg))\n",
    "\n",
    "    df_data = pd.DataFrame(avgs, columns=['cores', 'input', 'exec_time'])\n",
    "    return df_data"
   ]
  },
  {
   "cell_type": "code",
   "execution_count": 4,
   "metadata": {},
   "outputs": [],
   "source": [
    "def extract_data(df):\n",
    "    extracted_patterns = df.index.str.extract(r'(\\d+);(\\d+);(\\d+)', expand=True)\n",
    "    extracted_patterns.columns = ['cores', 'input', 'repetition']\n",
    "    df[extracted_patterns.columns] = extracted_patterns[extracted_patterns.columns].values\n",
    "    return df"
   ]
  },
  {
   "cell_type": "code",
   "execution_count": 18,
   "metadata": {
    "metadata": {}
   },
   "outputs": [],
   "source": [
    "dirs = os.listdir('./runs/')\n",
    "df_model = pd.DataFrame()\n",
    "df_real = pd.DataFrame()\n",
    "df_model_random = pd.DataFrame()\n",
    "df_model_single_last = pd.DataFrame()\n",
    "\n",
    "for dir in dirs:\n",
    "    files = os.listdir(f'./runs/{dir}')\n",
    "    model_path = [f'./runs/{dir}/{f}' for f in files if f.endswith('.json') and 'model_linear_output' in f]\n",
    "    real_path = [f'./runs/{dir}/{f}' for f in files if f.endswith('.json') and 'real_output' in f]\n",
    "    random_path = [f'./runs/{dir}/{f}' for f in files if f.endswith('.json') and 'model_random_output' in f]\n",
    "    single_last_path = [f'./runs/{dir}/{f}' for f in files if f.endswith('.json') and 'model_single_last_output' in f]\n",
    "    \n",
    "    df_model_aux = pd.read_json(model_path[0])\n",
    "    df_real_aux = pd.read_json(real_path[0])\n",
    "    df_random_aux = pd.read_json(random_path[0])\n",
    "\n",
    "    # try:\n",
    "    #     df_single_aux = pd.read_json(single_last_path[0])\n",
    "    # except:\n",
    "    #     pass\n",
    "\n",
    "    df_model_aux['algorithm'] = dir\n",
    "    df_real_aux['algorithm'] = dir\n",
    "    df_random_aux['algorithm'] = dir\n",
    "    # df_single_aux['algorithm'] = dir\n",
    "\n",
    "    df_model_aux = df_model_aux[df_model_aux['data'].notna()][['data', 'algorithm']]\n",
    "    df_real_aux = df_real_aux[df_real_aux['data'].notna()][['data', 'algorithm']]\n",
    "    df_random_aux = df_random_aux[df_random_aux['data'].notna()][['data', 'algorithm']]\n",
    "    # df_single_aux = df_single_aux[df_single_aux['data'].notna()][['data', 'algorithm']]\n",
    "\n",
    "    df_model = pd.concat([df_model, df_model_aux])\n",
    "    df_real = pd.concat([df_real, df_real_aux])\n",
    "    df_model_random = pd.concat([df_model_random, df_random_aux])\n",
    "    # df_model_single_last = pd.concat([df_model_single_last, df_single_aux])"
   ]
  },
  {
   "cell_type": "code",
   "execution_count": 19,
   "metadata": {},
   "outputs": [],
   "source": [
    "df_model['exec_time'] = df_model['data'].apply(lambda x: x['stop_time'] - x['start_time'])\n",
    "df_real['exec_time'] = df_real['data'].apply(lambda x: x['stop_time'] - x['start_time'])\n",
    "df_model_random['exec_time'] = df_model_random['data'].apply(lambda x: x['stop_time'] - x['start_time'])\n",
    "# df_model_single_last['exec_time'] = df_model_single_last['data'].apply(lambda x: x['stop_time'] - x['start_time'])"
   ]
  },
  {
   "cell_type": "code",
   "execution_count": 73,
   "metadata": {},
   "outputs": [
    {
     "data": {
      "text/plain": [
       "array(['1', '10', '11', '12', '13', '14', '15', '16', '17', '18', '19',\n",
       "       '2', '20', '3', '4', '5', '6', '7', '8', '9'], dtype=object)"
      ]
     },
     "execution_count": 73,
     "metadata": {},
     "output_type": "execute_result"
    }
   ],
   "source": [
    "a = extract_data(df_model_random)\n",
    "a = df_model_random.groupby(['cores', 'input', 'algorithm'])['exec_time'].mean().reset_index()\n",
    "a[a['algorithm'] == 'raytrace']['cores'].unique()"
   ]
  },
  {
   "cell_type": "code",
   "execution_count": 68,
   "metadata": {},
   "outputs": [
    {
     "data": {
      "text/html": [
       "<div>\n",
       "<style scoped>\n",
       "    .dataframe tbody tr th:only-of-type {\n",
       "        vertical-align: middle;\n",
       "    }\n",
       "\n",
       "    .dataframe tbody tr th {\n",
       "        vertical-align: top;\n",
       "    }\n",
       "\n",
       "    .dataframe thead th {\n",
       "        text-align: right;\n",
       "    }\n",
       "</style>\n",
       "<table border=\"1\" class=\"dataframe\">\n",
       "  <thead>\n",
       "    <tr style=\"text-align: right;\">\n",
       "      <th></th>\n",
       "      <th>cores</th>\n",
       "      <th>input</th>\n",
       "      <th>exec_time</th>\n",
       "    </tr>\n",
       "  </thead>\n",
       "  <tbody>\n",
       "    <tr>\n",
       "      <th>0</th>\n",
       "      <td>16</td>\n",
       "      <td>0</td>\n",
       "      <td>0.010846</td>\n",
       "    </tr>\n",
       "    <tr>\n",
       "      <th>1</th>\n",
       "      <td>16</td>\n",
       "      <td>1</td>\n",
       "      <td>0.016462</td>\n",
       "    </tr>\n",
       "    <tr>\n",
       "      <th>2</th>\n",
       "      <td>16</td>\n",
       "      <td>2</td>\n",
       "      <td>0.018291</td>\n",
       "    </tr>\n",
       "    <tr>\n",
       "      <th>3</th>\n",
       "      <td>16</td>\n",
       "      <td>3</td>\n",
       "      <td>0.022871</td>\n",
       "    </tr>\n",
       "    <tr>\n",
       "      <th>4</th>\n",
       "      <td>16</td>\n",
       "      <td>4</td>\n",
       "      <td>0.024371</td>\n",
       "    </tr>\n",
       "    <tr>\n",
       "      <th>...</th>\n",
       "      <td>...</td>\n",
       "      <td>...</td>\n",
       "      <td>...</td>\n",
       "    </tr>\n",
       "    <tr>\n",
       "      <th>251</th>\n",
       "      <td>1</td>\n",
       "      <td>11</td>\n",
       "      <td>0.371889</td>\n",
       "    </tr>\n",
       "    <tr>\n",
       "      <th>252</th>\n",
       "      <td>1</td>\n",
       "      <td>12</td>\n",
       "      <td>0.588244</td>\n",
       "    </tr>\n",
       "    <tr>\n",
       "      <th>253</th>\n",
       "      <td>1</td>\n",
       "      <td>13</td>\n",
       "      <td>0.831196</td>\n",
       "    </tr>\n",
       "    <tr>\n",
       "      <th>254</th>\n",
       "      <td>1</td>\n",
       "      <td>14</td>\n",
       "      <td>1.491479</td>\n",
       "    </tr>\n",
       "    <tr>\n",
       "      <th>255</th>\n",
       "      <td>1</td>\n",
       "      <td>15</td>\n",
       "      <td>3.310588</td>\n",
       "    </tr>\n",
       "  </tbody>\n",
       "</table>\n",
       "<p>256 rows × 3 columns</p>\n",
       "</div>"
      ],
      "text/plain": [
       "    cores input  exec_time\n",
       "0      16     0   0.010846\n",
       "1      16     1   0.016462\n",
       "2      16     2   0.018291\n",
       "3      16     3   0.022871\n",
       "4      16     4   0.024371\n",
       "..    ...   ...        ...\n",
       "251     1    11   0.371889\n",
       "252     1    12   0.588244\n",
       "253     1    13   0.831196\n",
       "254     1    14   1.491479\n",
       "255     1    15   3.310588\n",
       "\n",
       "[256 rows x 3 columns]"
      ]
     },
     "execution_count": 68,
     "metadata": {},
     "output_type": "execute_result"
    }
   ],
   "source": [
    "df_real_raytrace = df_real[df_real['algorithm'] == 'raytrace']\n",
    "df_real_raytrace = extract_avg_runtime(df_real_raytrace)\n",
    "df_real_raytrace"
   ]
  },
  {
   "cell_type": "code",
   "execution_count": 7,
   "metadata": {
    "metadata": {}
   },
   "outputs": [],
   "source": [
    "df_model['data'] = df_model['data'].apply(lambda x: x if x['start_time'] != 0 else None)\n",
    "df_model = df_model.dropna()\n",
    "\n",
    "df_model_random['data'] = df_model_random['data'].apply(lambda x: x if x['start_time'] != 0 else None)\n",
    "df_model_random = df_model_random.dropna()\n",
    "\n",
    "# df_model_single_last['data'] = df_model_single_last['data'].apply(lambda x: x if x['start_time'] != 0 else None)\n",
    "# df_model_single_last = df_model_single_last.dropna()"
   ]
  },
  {
   "cell_type": "code",
   "execution_count": 8,
   "metadata": {
    "metadata": {}
   },
   "outputs": [
    {
     "data": {
      "image/png": "[encoded data removed]",
      "text/plain": [
       "<Figure size 1000x500 with 1 Axes>"
      ]
     },
     "metadata": {},
     "output_type": "display_data"
    }
   ],
   "source": [
    "algorithms = df_real['algorithm'].unique()\n",
    "data = []\n",
    "for algo in algorithms:\n",
    "    data.append({'Algoritmo': algo, 'Tipo': 'Medição real', 'Tempo': df_real[df_real['algorithm'] == algo]['exec_time'].sum()})\n",
    "    data.append({'Algoritmo': algo, 'Tipo': 'PascalRegressionModel randômico', 'Tempo': df_model_random[df_model_random['algorithm'] == algo]['exec_time'].sum()})\n",
    "    # data.append({'Algoritmo': algo, 'Tipo': 'PascalRegressionModel single e last core', 'Tempo': df_model_single_last[df_model_single_last['algorithm'] == algo]['exec_time'].sum()})\n",
    "    data.append({'Algoritmo': algo, 'Tipo': 'PascalRegressionModel linear', 'Tempo': df_model[df_model['algorithm'] == algo]['exec_time'].sum()})\n",
    "\n",
    "df = pd.DataFrame(data)\n",
    "\n",
    "plt.figure(figsize=(10, 5))\n",
    "ax = sns.barplot(data=df, y='Algoritmo', x='Tempo', hue='Tipo', orient='h')\n",
    "\n",
    "plt.ylabel('Algoritmo')\n",
    "plt.xlabel('Tempo de execução (s)')\n",
    "plt.title('Comparação entre tempo de execução real e modelo por algoritmo')\n",
    "plt.legend(title='Tipo', loc='lower right')\n",
    "plt.grid()\n",
    "plt.show()"
   ]
  }
 ],
 "metadata": {
  "kernelspec": {
   "display_name": "Python 3",
   "language": "python",
   "name": "python3"
  },
  "language_info": {
   "codemirror_mode": {
    "name": "ipython",
    "version": 3
   },
   "file_extension": ".py",
   "mimetype": "text/x-python",
   "name": "python",
   "nbconvert_exporter": "python",
   "pygments_lexer": "ipython3",
   "version": "3.8.18"
  }
 },
 "nbformat": 4,
 "nbformat_minor": 2
}
