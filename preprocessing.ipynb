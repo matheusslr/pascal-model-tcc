{
 "cells": [
  {
   "cell_type": "markdown",
   "metadata": {},
   "source": [
    "Resultados esperados:\n",
    " - input: \n",
    "    - avg_runtime\n",
    "    - input_complexity\n",
    " - output: \n",
    "    - p_cores\n"
   ]
  },
  {
   "cell_type": "code",
   "execution_count": 1,
   "metadata": {},
   "outputs": [],
   "source": [
    "import os\n",
    "import pandas as pd\n",
    "import numpy as np"
   ]
  },
  {
   "cell_type": "code",
   "execution_count": 3,
   "metadata": {},
   "outputs": [],
   "source": [
    "df = pd.DataFrame()\n",
    "pkgs = os.listdir(\"./dataset\")\n",
    "\n",
    "for pkg in pkgs:\n",
    "    path = \"dataset/{}/{}-pthreads_g.json\".format(pkg, pkg)\n",
    "    df_tmp = pd.read_json(path)\n",
    "    df = pd.concat([df, df_tmp])"
   ]
  },
  {
   "cell_type": "code",
   "execution_count": 3,
   "metadata": {},
   "outputs": [],
   "source": [
    "df = pd.read_json(\"dataset/freqmine/freqmine-pthreads_g.json\")"
   ]
  },
  {
   "cell_type": "code",
   "execution_count": 6,
   "metadata": {},
   "outputs": [],
   "source": [
    "def calculate_median(data_list, start_index, end_index):\n",
    "    return np.median([data['stop_time'] - data['start_time'] for data in data_list[start_index:end_index]])"
   ]
  },
  {
   "cell_type": "code",
   "execution_count": 7,
   "metadata": {},
   "outputs": [],
   "source": [
    "def extract_avg_runtime(df):\n",
    "    data_list = df[df['data'].notna()]['data']\n",
    "    keys = data_list.index\n",
    "\n",
    "    avgs = []\n",
    "    BATCH_SIZE = 10\n",
    "\n",
    "    for i in range(0, len(data_list), BATCH_SIZE):\n",
    "        avg = calculate_median(data_list, i, i + BATCH_SIZE)\n",
    "        config = keys[i].split(\";\")\n",
    "        avgs.append((config[0], config[1], avg))\n",
    "\n",
    "    df_data = pd.DataFrame(avgs, columns=['cores', 'input', 'average_runtime'])\n",
    "    return df_data"
   ]
  },
  {
   "cell_type": "code",
   "execution_count": 8,
   "metadata": {},
   "outputs": [],
   "source": [
    "def extract_avg_runtime_without_agg(df):\n",
    "    data_list = df[df['data'].notna()]['data']\n",
    "    keys = data_list.index\n",
    "\n",
    "    avgs = []\n",
    "    BATCH_SIZE = 1\n",
    "\n",
    "    for i in range(0, len(data_list), BATCH_SIZE):\n",
    "        avg = calculate_median(data_list, i, i + BATCH_SIZE)\n",
    "        config = keys[i].split(\";\")\n",
    "        avgs.append((config[0], config[1], avg))\n",
    "\n",
    "    df_data = pd.DataFrame(avgs, columns=['cores', 'input', 'average_runtime'])\n",
    "    return df_data"
   ]
  },
  {
   "cell_type": "code",
   "execution_count": 9,
   "metadata": {},
   "outputs": [],
   "source": [
    "df_data = extract_avg_runtime(df)"
   ]
  },
  {
   "cell_type": "code",
   "execution_count": 10,
   "metadata": {},
   "outputs": [],
   "source": [
    "df_data['input'] = df_data['input'].astype(int)\n",
    "df_data['cores'] = df_data['cores'].astype(int)"
   ]
  },
  {
   "cell_type": "code",
   "execution_count": 11,
   "metadata": {},
   "outputs": [
    {
     "name": "stderr",
     "output_type": "stream",
     "text": [
      "C:\\Users\\PC\\AppData\\Local\\Temp\\ipykernel_18880\\3757201144.py:9: SettingWithCopyWarning: \n",
      "A value is trying to be set on a copy of a slice from a DataFrame.\n",
      "Try using .loc[row_indexer,col_indexer] = value instead\n",
      "\n",
      "See the caveats in the documentation: https://pandas.pydata.org/pandas-docs/stable/user_guide/indexing.html#returning-a-view-versus-a-copy\n",
      "  df_input['speedup'] = reference_speedup / df_input['average_runtime']\n",
      "C:\\Users\\PC\\AppData\\Local\\Temp\\ipykernel_18880\\3757201144.py:10: SettingWithCopyWarning: \n",
      "A value is trying to be set on a copy of a slice from a DataFrame.\n",
      "Try using .loc[row_indexer,col_indexer] = value instead\n",
      "\n",
      "See the caveats in the documentation: https://pandas.pydata.org/pandas-docs/stable/user_guide/indexing.html#returning-a-view-versus-a-copy\n",
      "  df_input['efficiency'] = df_input['speedup'] / df_input['cores']\n",
      "C:\\Users\\PC\\AppData\\Local\\Temp\\ipykernel_18880\\3757201144.py:9: SettingWithCopyWarning: \n",
      "A value is trying to be set on a copy of a slice from a DataFrame.\n",
      "Try using .loc[row_indexer,col_indexer] = value instead\n",
      "\n",
      "See the caveats in the documentation: https://pandas.pydata.org/pandas-docs/stable/user_guide/indexing.html#returning-a-view-versus-a-copy\n",
      "  df_input['speedup'] = reference_speedup / df_input['average_runtime']\n",
      "C:\\Users\\PC\\AppData\\Local\\Temp\\ipykernel_18880\\3757201144.py:10: SettingWithCopyWarning: \n",
      "A value is trying to be set on a copy of a slice from a DataFrame.\n",
      "Try using .loc[row_indexer,col_indexer] = value instead\n",
      "\n",
      "See the caveats in the documentation: https://pandas.pydata.org/pandas-docs/stable/user_guide/indexing.html#returning-a-view-versus-a-copy\n",
      "  df_input['efficiency'] = df_input['speedup'] / df_input['cores']\n",
      "C:\\Users\\PC\\AppData\\Local\\Temp\\ipykernel_18880\\3757201144.py:9: SettingWithCopyWarning: \n",
      "A value is trying to be set on a copy of a slice from a DataFrame.\n",
      "Try using .loc[row_indexer,col_indexer] = value instead\n",
      "\n",
      "See the caveats in the documentation: https://pandas.pydata.org/pandas-docs/stable/user_guide/indexing.html#returning-a-view-versus-a-copy\n",
      "  df_input['speedup'] = reference_speedup / df_input['average_runtime']\n",
      "C:\\Users\\PC\\AppData\\Local\\Temp\\ipykernel_18880\\3757201144.py:10: SettingWithCopyWarning: \n",
      "A value is trying to be set on a copy of a slice from a DataFrame.\n",
      "Try using .loc[row_indexer,col_indexer] = value instead\n",
      "\n",
      "See the caveats in the documentation: https://pandas.pydata.org/pandas-docs/stable/user_guide/indexing.html#returning-a-view-versus-a-copy\n",
      "  df_input['efficiency'] = df_input['speedup'] / df_input['cores']\n",
      "C:\\Users\\PC\\AppData\\Local\\Temp\\ipykernel_18880\\3757201144.py:9: SettingWithCopyWarning: \n",
      "A value is trying to be set on a copy of a slice from a DataFrame.\n",
      "Try using .loc[row_indexer,col_indexer] = value instead\n",
      "\n",
      "See the caveats in the documentation: https://pandas.pydata.org/pandas-docs/stable/user_guide/indexing.html#returning-a-view-versus-a-copy\n",
      "  df_input['speedup'] = reference_speedup / df_input['average_runtime']\n",
      "C:\\Users\\PC\\AppData\\Local\\Temp\\ipykernel_18880\\3757201144.py:10: SettingWithCopyWarning: \n",
      "A value is trying to be set on a copy of a slice from a DataFrame.\n",
      "Try using .loc[row_indexer,col_indexer] = value instead\n",
      "\n",
      "See the caveats in the documentation: https://pandas.pydata.org/pandas-docs/stable/user_guide/indexing.html#returning-a-view-versus-a-copy\n",
      "  df_input['efficiency'] = df_input['speedup'] / df_input['cores']\n",
      "C:\\Users\\PC\\AppData\\Local\\Temp\\ipykernel_18880\\3757201144.py:9: SettingWithCopyWarning: \n",
      "A value is trying to be set on a copy of a slice from a DataFrame.\n",
      "Try using .loc[row_indexer,col_indexer] = value instead\n",
      "\n",
      "See the caveats in the documentation: https://pandas.pydata.org/pandas-docs/stable/user_guide/indexing.html#returning-a-view-versus-a-copy\n",
      "  df_input['speedup'] = reference_speedup / df_input['average_runtime']\n",
      "C:\\Users\\PC\\AppData\\Local\\Temp\\ipykernel_18880\\3757201144.py:10: SettingWithCopyWarning: \n",
      "A value is trying to be set on a copy of a slice from a DataFrame.\n",
      "Try using .loc[row_indexer,col_indexer] = value instead\n",
      "\n",
      "See the caveats in the documentation: https://pandas.pydata.org/pandas-docs/stable/user_guide/indexing.html#returning-a-view-versus-a-copy\n",
      "  df_input['efficiency'] = df_input['speedup'] / df_input['cores']\n",
      "C:\\Users\\PC\\AppData\\Local\\Temp\\ipykernel_18880\\3757201144.py:9: SettingWithCopyWarning: \n",
      "A value is trying to be set on a copy of a slice from a DataFrame.\n",
      "Try using .loc[row_indexer,col_indexer] = value instead\n",
      "\n",
      "See the caveats in the documentation: https://pandas.pydata.org/pandas-docs/stable/user_guide/indexing.html#returning-a-view-versus-a-copy\n",
      "  df_input['speedup'] = reference_speedup / df_input['average_runtime']\n",
      "C:\\Users\\PC\\AppData\\Local\\Temp\\ipykernel_18880\\3757201144.py:10: SettingWithCopyWarning: \n",
      "A value is trying to be set on a copy of a slice from a DataFrame.\n",
      "Try using .loc[row_indexer,col_indexer] = value instead\n",
      "\n",
      "See the caveats in the documentation: https://pandas.pydata.org/pandas-docs/stable/user_guide/indexing.html#returning-a-view-versus-a-copy\n",
      "  df_input['efficiency'] = df_input['speedup'] / df_input['cores']\n",
      "C:\\Users\\PC\\AppData\\Local\\Temp\\ipykernel_18880\\3757201144.py:9: SettingWithCopyWarning: \n",
      "A value is trying to be set on a copy of a slice from a DataFrame.\n",
      "Try using .loc[row_indexer,col_indexer] = value instead\n",
      "\n",
      "See the caveats in the documentation: https://pandas.pydata.org/pandas-docs/stable/user_guide/indexing.html#returning-a-view-versus-a-copy\n",
      "  df_input['speedup'] = reference_speedup / df_input['average_runtime']\n",
      "C:\\Users\\PC\\AppData\\Local\\Temp\\ipykernel_18880\\3757201144.py:10: SettingWithCopyWarning: \n",
      "A value is trying to be set on a copy of a slice from a DataFrame.\n",
      "Try using .loc[row_indexer,col_indexer] = value instead\n",
      "\n",
      "See the caveats in the documentation: https://pandas.pydata.org/pandas-docs/stable/user_guide/indexing.html#returning-a-view-versus-a-copy\n",
      "  df_input['efficiency'] = df_input['speedup'] / df_input['cores']\n",
      "C:\\Users\\PC\\AppData\\Local\\Temp\\ipykernel_18880\\3757201144.py:9: SettingWithCopyWarning: \n",
      "A value is trying to be set on a copy of a slice from a DataFrame.\n",
      "Try using .loc[row_indexer,col_indexer] = value instead\n",
      "\n",
      "See the caveats in the documentation: https://pandas.pydata.org/pandas-docs/stable/user_guide/indexing.html#returning-a-view-versus-a-copy\n",
      "  df_input['speedup'] = reference_speedup / df_input['average_runtime']\n",
      "C:\\Users\\PC\\AppData\\Local\\Temp\\ipykernel_18880\\3757201144.py:10: SettingWithCopyWarning: \n",
      "A value is trying to be set on a copy of a slice from a DataFrame.\n",
      "Try using .loc[row_indexer,col_indexer] = value instead\n",
      "\n",
      "See the caveats in the documentation: https://pandas.pydata.org/pandas-docs/stable/user_guide/indexing.html#returning-a-view-versus-a-copy\n",
      "  df_input['efficiency'] = df_input['speedup'] / df_input['cores']\n",
      "C:\\Users\\PC\\AppData\\Local\\Temp\\ipykernel_18880\\3757201144.py:9: SettingWithCopyWarning: \n",
      "A value is trying to be set on a copy of a slice from a DataFrame.\n",
      "Try using .loc[row_indexer,col_indexer] = value instead\n",
      "\n",
      "See the caveats in the documentation: https://pandas.pydata.org/pandas-docs/stable/user_guide/indexing.html#returning-a-view-versus-a-copy\n",
      "  df_input['speedup'] = reference_speedup / df_input['average_runtime']\n",
      "C:\\Users\\PC\\AppData\\Local\\Temp\\ipykernel_18880\\3757201144.py:10: SettingWithCopyWarning: \n",
      "A value is trying to be set on a copy of a slice from a DataFrame.\n",
      "Try using .loc[row_indexer,col_indexer] = value instead\n",
      "\n",
      "See the caveats in the documentation: https://pandas.pydata.org/pandas-docs/stable/user_guide/indexing.html#returning-a-view-versus-a-copy\n",
      "  df_input['efficiency'] = df_input['speedup'] / df_input['cores']\n",
      "C:\\Users\\PC\\AppData\\Local\\Temp\\ipykernel_18880\\3757201144.py:9: SettingWithCopyWarning: \n",
      "A value is trying to be set on a copy of a slice from a DataFrame.\n",
      "Try using .loc[row_indexer,col_indexer] = value instead\n",
      "\n",
      "See the caveats in the documentation: https://pandas.pydata.org/pandas-docs/stable/user_guide/indexing.html#returning-a-view-versus-a-copy\n",
      "  df_input['speedup'] = reference_speedup / df_input['average_runtime']\n",
      "C:\\Users\\PC\\AppData\\Local\\Temp\\ipykernel_18880\\3757201144.py:10: SettingWithCopyWarning: \n",
      "A value is trying to be set on a copy of a slice from a DataFrame.\n",
      "Try using .loc[row_indexer,col_indexer] = value instead\n",
      "\n",
      "See the caveats in the documentation: https://pandas.pydata.org/pandas-docs/stable/user_guide/indexing.html#returning-a-view-versus-a-copy\n",
      "  df_input['efficiency'] = df_input['speedup'] / df_input['cores']\n"
     ]
    }
   ],
   "source": [
    "# Calculando Speedup e Eficiência\n",
    "inputs = len(df_data['input'].unique())\n",
    "\n",
    "df_clean = pd.DataFrame()\n",
    "\n",
    "for i in range(inputs):\n",
    "    df_input = df_data[df_data['input'] == i]\n",
    "    reference_speedup = df_input[df_input['cores'] == 1]['average_runtime'].values[0]\n",
    "    df_input['speedup'] = reference_speedup / df_input['average_runtime']\n",
    "    df_input['efficiency'] = df_input['speedup'] / df_input['cores']\n",
    "    df_clean = pd.concat([df_clean, df_input], ignore_index=True)"
   ]
  },
  {
   "cell_type": "code",
   "execution_count": 11,
   "metadata": {},
   "outputs": [],
   "source": [
    "df_clean['mem_ram'] = 128 # GB\n",
    "df_clean['freq_mem'] = 2133 # MHz\n",
    "df_clean['freq_cpu'] = 2.3 # GHz\n",
    "df_clean['mem_l3'] = 40 # MB"
   ]
  },
  {
   "cell_type": "code",
   "execution_count": 12,
   "metadata": {},
   "outputs": [],
   "source": [
    "df_clean.to_csv('dataset/clean_data.csv', index=False)"
   ]
  }
 ],
 "metadata": {
  "kernelspec": {
   "display_name": "Python 3",
   "language": "python",
   "name": "python3"
  },
  "language_info": {
   "codemirror_mode": {
    "name": "ipython",
    "version": 3
   },
   "file_extension": ".py",
   "mimetype": "text/x-python",
   "name": "python",
   "nbconvert_exporter": "python",
   "pygments_lexer": "ipython3",
   "version": "3.11.4"
  },
  "orig_nbformat": 4
 },
 "nbformat": 4,
 "nbformat_minor": 2
}
