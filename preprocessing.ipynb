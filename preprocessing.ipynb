{
 "cells": [
  {
   "cell_type": "markdown",
   "metadata": {},
   "source": [
    "Resultados esperados:\n",
    " - input: \n",
    "    - avg_runtime\n",
    "    - input_complexity\n",
    " - output: \n",
    "    - p_cores\n"
   ]
  },
  {
   "cell_type": "code",
   "execution_count": 1,
   "metadata": {},
   "outputs": [],
   "source": [
    "import pandas as pd\n",
    "import numpy as np"
   ]
  },
  {
   "cell_type": "code",
   "execution_count": 2,
   "metadata": {},
   "outputs": [],
   "source": [
    "df = pd.read_json('dataset/freqmine-pthreads_g_10.json')"
   ]
  },
  {
   "cell_type": "code",
   "execution_count": 3,
   "metadata": {},
   "outputs": [],
   "source": [
    "def calculate_average(data_list, start_index, end_index):\n",
    "    return np.mean([data['stop_time'] - data['start_time'] for data in data_list[start_index:end_index]])"
   ]
  },
  {
   "cell_type": "code",
   "execution_count": 4,
   "metadata": {},
   "outputs": [],
   "source": [
    "def extract_relevant_data(df):\n",
    "    data_list = df[df['data'].notna()]['data']\n",
    "    keys = data_list.index\n",
    "\n",
    "    avgs = []\n",
    "    BATCH_SIZE = 10\n",
    "\n",
    "    for i in range(0, len(data_list), BATCH_SIZE):\n",
    "        avg = calculate_average(data_list, i, i + BATCH_SIZE)\n",
    "        config = keys[i].split(\";\")\n",
    "        avgs.append((config[0], config[1], avg))\n",
    "\n",
    "    df_data = pd.DataFrame(avgs, columns=['cores', 'input', 'average_runtime'])\n",
    "    return df_data"
   ]
  },
  {
   "cell_type": "code",
   "execution_count": 5,
   "metadata": {},
   "outputs": [],
   "source": [
    "df_data = extract_relevant_data(df)\n",
    "df_data.to_csv('dataset/clean_data.csv', index=False)"
   ]
  }
 ],
 "metadata": {
  "kernelspec": {
   "display_name": "Python 3",
   "language": "python",
   "name": "python3"
  },
  "language_info": {
   "codemirror_mode": {
    "name": "ipython",
    "version": 3
   },
   "file_extension": ".py",
   "mimetype": "text/x-python",
   "name": "python",
   "nbconvert_exporter": "python",
   "pygments_lexer": "ipython3",
   "version": "3.11.4"
  },
  "orig_nbformat": 4
 },
 "nbformat": 4,
 "nbformat_minor": 2
}
